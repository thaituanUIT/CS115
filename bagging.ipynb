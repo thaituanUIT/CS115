{
 "cells": [
  {
   "cell_type": "markdown",
   "id": "9c260053",
   "metadata": {
    "papermill": {
     "duration": 0.008358,
     "end_time": "2024-12-07T11:47:46.780330",
     "exception": false,
     "start_time": "2024-12-07T11:47:46.771972",
     "status": "completed"
    },
    "tags": []
   },
   "source": [
    "# Loading necessary libraries"
   ]
  },
  {
   "cell_type": "code",
   "execution_count": 1,
   "id": "0b265b2a",
   "metadata": {
    "execution": {
     "iopub.execute_input": "2024-12-07T11:47:46.797125Z",
     "iopub.status.busy": "2024-12-07T11:47:46.796041Z",
     "iopub.status.idle": "2024-12-07T11:48:08.614825Z",
     "shell.execute_reply": "2024-12-07T11:48:08.613164Z"
    },
    "papermill": {
     "duration": 21.830614,
     "end_time": "2024-12-07T11:48:08.618183",
     "exception": false,
     "start_time": "2024-12-07T11:47:46.787569",
     "status": "completed"
    },
    "tags": []
   },
   "outputs": [],
   "source": [
    "import matplotlib.pyplot as plt\n",
    "import numpy as np\n",
    "import os\n",
    "import pandas as pd\n",
    "import seaborn as sns\n",
    "import tensorflow\n",
    "import torch\n",
    "from sklearn.metrics import classification_report, f1_score, confusion_matrix\n",
    "from sklearn.linear_model import LogisticRegression\n",
    "from sklearn.ensemble import BaggingClassifier\n",
    "from sklearn.preprocessing import StandardScaler, MinMaxScaler\n",
    "from sklearn.model_selection import train_test_split"
   ]
  },
  {
   "cell_type": "code",
   "execution_count": 2,
   "id": "f71f05db",
   "metadata": {
    "execution": {
     "iopub.execute_input": "2024-12-07T11:48:08.639575Z",
     "iopub.status.busy": "2024-12-07T11:48:08.638841Z",
     "iopub.status.idle": "2024-12-07T11:48:08.652449Z",
     "shell.execute_reply": "2024-12-07T11:48:08.651274Z"
    },
    "papermill": {
     "duration": 0.024408,
     "end_time": "2024-12-07T11:48:08.655068",
     "exception": false,
     "start_time": "2024-12-07T11:48:08.630660",
     "status": "completed"
    },
    "tags": []
   },
   "outputs": [],
   "source": [
    "seed = 221\n",
    "torch.manual_seed(seed)\n",
    "torch.cuda.manual_seed(seed)\n",
    "torch.cuda.manual_seed_all(seed)\n",
    "np.random.seed(seed)\n",
    "os.environ['PYTHONHASHSEED'] = str(seed)\n",
    "torch.backends.cudnn.deterministic = True\n",
    "torch.backends.cudnn.benchmark = False"
   ]
  },
  {
   "cell_type": "markdown",
   "id": "1eb395a4",
   "metadata": {
    "papermill": {
     "duration": 0.006602,
     "end_time": "2024-12-07T11:48:08.670154",
     "exception": false,
     "start_time": "2024-12-07T11:48:08.663552",
     "status": "completed"
    },
    "tags": []
   },
   "source": [
    "# Load diabetes dataset"
   ]
  },
  {
   "cell_type": "code",
   "execution_count": 3,
   "id": "8a1f373b",
   "metadata": {
    "execution": {
     "iopub.execute_input": "2024-12-07T11:48:08.687544Z",
     "iopub.status.busy": "2024-12-07T11:48:08.687180Z",
     "iopub.status.idle": "2024-12-07T11:48:08.734989Z",
     "shell.execute_reply": "2024-12-07T11:48:08.733909Z"
    },
    "papermill": {
     "duration": 0.059199,
     "end_time": "2024-12-07T11:48:08.737195",
     "exception": false,
     "start_time": "2024-12-07T11:48:08.677996",
     "status": "completed"
    },
    "tags": []
   },
   "outputs": [
    {
     "data": {
      "text/html": [
       "<div>\n",
       "<style scoped>\n",
       "    .dataframe tbody tr th:only-of-type {\n",
       "        vertical-align: middle;\n",
       "    }\n",
       "\n",
       "    .dataframe tbody tr th {\n",
       "        vertical-align: top;\n",
       "    }\n",
       "\n",
       "    .dataframe thead th {\n",
       "        text-align: right;\n",
       "    }\n",
       "</style>\n",
       "<table border=\"1\" class=\"dataframe\">\n",
       "  <thead>\n",
       "    <tr style=\"text-align: right;\">\n",
       "      <th></th>\n",
       "      <th>Glucose</th>\n",
       "      <th>BloodPressure</th>\n",
       "      <th>SkinThickness</th>\n",
       "      <th>Insulin</th>\n",
       "      <th>BMI</th>\n",
       "      <th>DiabetesPedigreeFunction</th>\n",
       "      <th>Age</th>\n",
       "      <th>Outcome</th>\n",
       "    </tr>\n",
       "    <tr>\n",
       "      <th>Pregnancies</th>\n",
       "      <th></th>\n",
       "      <th></th>\n",
       "      <th></th>\n",
       "      <th></th>\n",
       "      <th></th>\n",
       "      <th></th>\n",
       "      <th></th>\n",
       "      <th></th>\n",
       "    </tr>\n",
       "  </thead>\n",
       "  <tbody>\n",
       "    <tr>\n",
       "      <th>6</th>\n",
       "      <td>148</td>\n",
       "      <td>72</td>\n",
       "      <td>35</td>\n",
       "      <td>0</td>\n",
       "      <td>33.6</td>\n",
       "      <td>0.627</td>\n",
       "      <td>50</td>\n",
       "      <td>1</td>\n",
       "    </tr>\n",
       "    <tr>\n",
       "      <th>1</th>\n",
       "      <td>85</td>\n",
       "      <td>66</td>\n",
       "      <td>29</td>\n",
       "      <td>0</td>\n",
       "      <td>26.6</td>\n",
       "      <td>0.351</td>\n",
       "      <td>31</td>\n",
       "      <td>0</td>\n",
       "    </tr>\n",
       "    <tr>\n",
       "      <th>8</th>\n",
       "      <td>183</td>\n",
       "      <td>64</td>\n",
       "      <td>0</td>\n",
       "      <td>0</td>\n",
       "      <td>23.3</td>\n",
       "      <td>0.672</td>\n",
       "      <td>32</td>\n",
       "      <td>1</td>\n",
       "    </tr>\n",
       "    <tr>\n",
       "      <th>1</th>\n",
       "      <td>89</td>\n",
       "      <td>66</td>\n",
       "      <td>23</td>\n",
       "      <td>94</td>\n",
       "      <td>28.1</td>\n",
       "      <td>0.167</td>\n",
       "      <td>21</td>\n",
       "      <td>0</td>\n",
       "    </tr>\n",
       "    <tr>\n",
       "      <th>0</th>\n",
       "      <td>137</td>\n",
       "      <td>40</td>\n",
       "      <td>35</td>\n",
       "      <td>168</td>\n",
       "      <td>43.1</td>\n",
       "      <td>2.288</td>\n",
       "      <td>33</td>\n",
       "      <td>1</td>\n",
       "    </tr>\n",
       "    <tr>\n",
       "      <th>...</th>\n",
       "      <td>...</td>\n",
       "      <td>...</td>\n",
       "      <td>...</td>\n",
       "      <td>...</td>\n",
       "      <td>...</td>\n",
       "      <td>...</td>\n",
       "      <td>...</td>\n",
       "      <td>...</td>\n",
       "    </tr>\n",
       "    <tr>\n",
       "      <th>10</th>\n",
       "      <td>101</td>\n",
       "      <td>76</td>\n",
       "      <td>48</td>\n",
       "      <td>180</td>\n",
       "      <td>32.9</td>\n",
       "      <td>0.171</td>\n",
       "      <td>63</td>\n",
       "      <td>0</td>\n",
       "    </tr>\n",
       "    <tr>\n",
       "      <th>2</th>\n",
       "      <td>122</td>\n",
       "      <td>70</td>\n",
       "      <td>27</td>\n",
       "      <td>0</td>\n",
       "      <td>36.8</td>\n",
       "      <td>0.340</td>\n",
       "      <td>27</td>\n",
       "      <td>0</td>\n",
       "    </tr>\n",
       "    <tr>\n",
       "      <th>5</th>\n",
       "      <td>121</td>\n",
       "      <td>72</td>\n",
       "      <td>23</td>\n",
       "      <td>112</td>\n",
       "      <td>26.2</td>\n",
       "      <td>0.245</td>\n",
       "      <td>30</td>\n",
       "      <td>0</td>\n",
       "    </tr>\n",
       "    <tr>\n",
       "      <th>1</th>\n",
       "      <td>126</td>\n",
       "      <td>60</td>\n",
       "      <td>0</td>\n",
       "      <td>0</td>\n",
       "      <td>30.1</td>\n",
       "      <td>0.349</td>\n",
       "      <td>47</td>\n",
       "      <td>1</td>\n",
       "    </tr>\n",
       "    <tr>\n",
       "      <th>1</th>\n",
       "      <td>93</td>\n",
       "      <td>70</td>\n",
       "      <td>31</td>\n",
       "      <td>0</td>\n",
       "      <td>30.4</td>\n",
       "      <td>0.315</td>\n",
       "      <td>23</td>\n",
       "      <td>0</td>\n",
       "    </tr>\n",
       "  </tbody>\n",
       "</table>\n",
       "<p>768 rows × 8 columns</p>\n",
       "</div>"
      ],
      "text/plain": [
       "             Glucose  BloodPressure  SkinThickness  Insulin   BMI  \\\n",
       "Pregnancies                                                         \n",
       "6                148             72             35        0  33.6   \n",
       "1                 85             66             29        0  26.6   \n",
       "8                183             64              0        0  23.3   \n",
       "1                 89             66             23       94  28.1   \n",
       "0                137             40             35      168  43.1   \n",
       "...              ...            ...            ...      ...   ...   \n",
       "10               101             76             48      180  32.9   \n",
       "2                122             70             27        0  36.8   \n",
       "5                121             72             23      112  26.2   \n",
       "1                126             60              0        0  30.1   \n",
       "1                 93             70             31        0  30.4   \n",
       "\n",
       "             DiabetesPedigreeFunction  Age  Outcome  \n",
       "Pregnancies                                          \n",
       "6                               0.627   50        1  \n",
       "1                               0.351   31        0  \n",
       "8                               0.672   32        1  \n",
       "1                               0.167   21        0  \n",
       "0                               2.288   33        1  \n",
       "...                               ...  ...      ...  \n",
       "10                              0.171   63        0  \n",
       "2                               0.340   27        0  \n",
       "5                               0.245   30        0  \n",
       "1                               0.349   47        1  \n",
       "1                               0.315   23        0  \n",
       "\n",
       "[768 rows x 8 columns]"
      ]
     },
     "execution_count": 3,
     "metadata": {},
     "output_type": "execute_result"
    }
   ],
   "source": [
    "diabetes = pd.read_csv(\"/kaggle/input/diabetes-data-set/diabetes.csv\", index_col = 0)\n",
    "diabetes"
   ]
  },
  {
   "cell_type": "code",
   "execution_count": 4,
   "id": "a06158a6",
   "metadata": {
    "execution": {
     "iopub.execute_input": "2024-12-07T11:48:08.752986Z",
     "iopub.status.busy": "2024-12-07T11:48:08.752598Z",
     "iopub.status.idle": "2024-12-07T11:48:08.774412Z",
     "shell.execute_reply": "2024-12-07T11:48:08.773342Z"
    },
    "papermill": {
     "duration": 0.032556,
     "end_time": "2024-12-07T11:48:08.776940",
     "exception": false,
     "start_time": "2024-12-07T11:48:08.744384",
     "status": "completed"
    },
    "tags": []
   },
   "outputs": [
    {
     "name": "stdout",
     "output_type": "stream",
     "text": [
      "<class 'pandas.core.frame.DataFrame'>\n",
      "Index: 768 entries, 6 to 1\n",
      "Data columns (total 8 columns):\n",
      " #   Column                    Non-Null Count  Dtype  \n",
      "---  ------                    --------------  -----  \n",
      " 0   Glucose                   768 non-null    int64  \n",
      " 1   BloodPressure             768 non-null    int64  \n",
      " 2   SkinThickness             768 non-null    int64  \n",
      " 3   Insulin                   768 non-null    int64  \n",
      " 4   BMI                       768 non-null    float64\n",
      " 5   DiabetesPedigreeFunction  768 non-null    float64\n",
      " 6   Age                       768 non-null    int64  \n",
      " 7   Outcome                   768 non-null    int64  \n",
      "dtypes: float64(2), int64(6)\n",
      "memory usage: 54.0 KB\n"
     ]
    }
   ],
   "source": [
    "diabetes.info()"
   ]
  },
  {
   "cell_type": "code",
   "execution_count": 5,
   "id": "bff6ea1d",
   "metadata": {
    "execution": {
     "iopub.execute_input": "2024-12-07T11:48:08.793338Z",
     "iopub.status.busy": "2024-12-07T11:48:08.792931Z",
     "iopub.status.idle": "2024-12-07T11:48:08.802568Z",
     "shell.execute_reply": "2024-12-07T11:48:08.801326Z"
    },
    "papermill": {
     "duration": 0.020333,
     "end_time": "2024-12-07T11:48:08.804719",
     "exception": false,
     "start_time": "2024-12-07T11:48:08.784386",
     "status": "completed"
    },
    "tags": []
   },
   "outputs": [
    {
     "data": {
      "text/plain": [
       "Glucose                     0\n",
       "BloodPressure               0\n",
       "SkinThickness               0\n",
       "Insulin                     0\n",
       "BMI                         0\n",
       "DiabetesPedigreeFunction    0\n",
       "Age                         0\n",
       "Outcome                     0\n",
       "dtype: int64"
      ]
     },
     "execution_count": 5,
     "metadata": {},
     "output_type": "execute_result"
    }
   ],
   "source": [
    "diabetes.isnull().sum()"
   ]
  },
  {
   "cell_type": "code",
   "execution_count": 6,
   "id": "2b513964",
   "metadata": {
    "execution": {
     "iopub.execute_input": "2024-12-07T11:48:08.821191Z",
     "iopub.status.busy": "2024-12-07T11:48:08.820707Z",
     "iopub.status.idle": "2024-12-07T11:48:08.829341Z",
     "shell.execute_reply": "2024-12-07T11:48:08.828301Z"
    },
    "papermill": {
     "duration": 0.019457,
     "end_time": "2024-12-07T11:48:08.831568",
     "exception": false,
     "start_time": "2024-12-07T11:48:08.812111",
     "status": "completed"
    },
    "tags": []
   },
   "outputs": [
    {
     "data": {
      "text/plain": [
       "Glucose                     0\n",
       "BloodPressure               0\n",
       "SkinThickness               0\n",
       "Insulin                     0\n",
       "BMI                         0\n",
       "DiabetesPedigreeFunction    0\n",
       "Age                         0\n",
       "Outcome                     0\n",
       "dtype: int64"
      ]
     },
     "execution_count": 6,
     "metadata": {},
     "output_type": "execute_result"
    }
   ],
   "source": [
    "(diabetes < 0).sum()"
   ]
  },
  {
   "cell_type": "code",
   "execution_count": 7,
   "id": "a4923aad",
   "metadata": {
    "execution": {
     "iopub.execute_input": "2024-12-07T11:48:08.848002Z",
     "iopub.status.busy": "2024-12-07T11:48:08.847586Z",
     "iopub.status.idle": "2024-12-07T11:48:08.861038Z",
     "shell.execute_reply": "2024-12-07T11:48:08.859914Z"
    },
    "papermill": {
     "duration": 0.024425,
     "end_time": "2024-12-07T11:48:08.863348",
     "exception": false,
     "start_time": "2024-12-07T11:48:08.838923",
     "status": "completed"
    },
    "tags": []
   },
   "outputs": [
    {
     "data": {
      "text/html": [
       "<div>\n",
       "<style scoped>\n",
       "    .dataframe tbody tr th:only-of-type {\n",
       "        vertical-align: middle;\n",
       "    }\n",
       "\n",
       "    .dataframe tbody tr th {\n",
       "        vertical-align: top;\n",
       "    }\n",
       "\n",
       "    .dataframe thead th {\n",
       "        text-align: right;\n",
       "    }\n",
       "</style>\n",
       "<table border=\"1\" class=\"dataframe\">\n",
       "  <thead>\n",
       "    <tr style=\"text-align: right;\">\n",
       "      <th></th>\n",
       "      <th>Glucose</th>\n",
       "      <th>BloodPressure</th>\n",
       "      <th>SkinThickness</th>\n",
       "      <th>Insulin</th>\n",
       "      <th>BMI</th>\n",
       "      <th>DiabetesPedigreeFunction</th>\n",
       "      <th>Age</th>\n",
       "      <th>Outcome</th>\n",
       "    </tr>\n",
       "    <tr>\n",
       "      <th>Pregnancies</th>\n",
       "      <th></th>\n",
       "      <th></th>\n",
       "      <th></th>\n",
       "      <th></th>\n",
       "      <th></th>\n",
       "      <th></th>\n",
       "      <th></th>\n",
       "      <th></th>\n",
       "    </tr>\n",
       "  </thead>\n",
       "  <tbody>\n",
       "    <tr>\n",
       "      <th>6</th>\n",
       "      <td>148</td>\n",
       "      <td>72</td>\n",
       "      <td>35</td>\n",
       "      <td>0</td>\n",
       "      <td>33.6</td>\n",
       "      <td>0.627</td>\n",
       "      <td>50</td>\n",
       "      <td>1</td>\n",
       "    </tr>\n",
       "    <tr>\n",
       "      <th>1</th>\n",
       "      <td>85</td>\n",
       "      <td>66</td>\n",
       "      <td>29</td>\n",
       "      <td>0</td>\n",
       "      <td>26.6</td>\n",
       "      <td>0.351</td>\n",
       "      <td>31</td>\n",
       "      <td>0</td>\n",
       "    </tr>\n",
       "    <tr>\n",
       "      <th>8</th>\n",
       "      <td>183</td>\n",
       "      <td>64</td>\n",
       "      <td>0</td>\n",
       "      <td>0</td>\n",
       "      <td>23.3</td>\n",
       "      <td>0.672</td>\n",
       "      <td>32</td>\n",
       "      <td>1</td>\n",
       "    </tr>\n",
       "    <tr>\n",
       "      <th>1</th>\n",
       "      <td>89</td>\n",
       "      <td>66</td>\n",
       "      <td>23</td>\n",
       "      <td>94</td>\n",
       "      <td>28.1</td>\n",
       "      <td>0.167</td>\n",
       "      <td>21</td>\n",
       "      <td>0</td>\n",
       "    </tr>\n",
       "    <tr>\n",
       "      <th>0</th>\n",
       "      <td>137</td>\n",
       "      <td>40</td>\n",
       "      <td>35</td>\n",
       "      <td>168</td>\n",
       "      <td>43.1</td>\n",
       "      <td>2.288</td>\n",
       "      <td>33</td>\n",
       "      <td>1</td>\n",
       "    </tr>\n",
       "  </tbody>\n",
       "</table>\n",
       "</div>"
      ],
      "text/plain": [
       "             Glucose  BloodPressure  SkinThickness  Insulin   BMI  \\\n",
       "Pregnancies                                                         \n",
       "6                148             72             35        0  33.6   \n",
       "1                 85             66             29        0  26.6   \n",
       "8                183             64              0        0  23.3   \n",
       "1                 89             66             23       94  28.1   \n",
       "0                137             40             35      168  43.1   \n",
       "\n",
       "             DiabetesPedigreeFunction  Age  Outcome  \n",
       "Pregnancies                                          \n",
       "6                               0.627   50        1  \n",
       "1                               0.351   31        0  \n",
       "8                               0.672   32        1  \n",
       "1                               0.167   21        0  \n",
       "0                               2.288   33        1  "
      ]
     },
     "execution_count": 7,
     "metadata": {},
     "output_type": "execute_result"
    }
   ],
   "source": [
    "diabetes.head()"
   ]
  },
  {
   "cell_type": "markdown",
   "id": "6fbac5f5",
   "metadata": {
    "papermill": {
     "duration": 0.007478,
     "end_time": "2024-12-07T11:48:08.878335",
     "exception": false,
     "start_time": "2024-12-07T11:48:08.870857",
     "status": "completed"
    },
    "tags": []
   },
   "source": [
    "# Preprocessing data"
   ]
  },
  {
   "cell_type": "code",
   "execution_count": 8,
   "id": "353bd8f5",
   "metadata": {
    "execution": {
     "iopub.execute_input": "2024-12-07T11:48:08.895254Z",
     "iopub.status.busy": "2024-12-07T11:48:08.894840Z",
     "iopub.status.idle": "2024-12-07T11:48:08.901341Z",
     "shell.execute_reply": "2024-12-07T11:48:08.900046Z"
    },
    "papermill": {
     "duration": 0.017545,
     "end_time": "2024-12-07T11:48:08.903497",
     "exception": false,
     "start_time": "2024-12-07T11:48:08.885952",
     "status": "completed"
    },
    "tags": []
   },
   "outputs": [],
   "source": [
    "X = diabetes.drop(columns = ['Outcome'], axis = 1)\n",
    "y = diabetes['Outcome']"
   ]
  },
  {
   "cell_type": "code",
   "execution_count": 9,
   "id": "a671fe6e",
   "metadata": {
    "execution": {
     "iopub.execute_input": "2024-12-07T11:48:08.921173Z",
     "iopub.status.busy": "2024-12-07T11:48:08.920746Z",
     "iopub.status.idle": "2024-12-07T11:48:08.928224Z",
     "shell.execute_reply": "2024-12-07T11:48:08.927165Z"
    },
    "papermill": {
     "duration": 0.01916,
     "end_time": "2024-12-07T11:48:08.930336",
     "exception": false,
     "start_time": "2024-12-07T11:48:08.911176",
     "status": "completed"
    },
    "tags": []
   },
   "outputs": [],
   "source": [
    "def replacement(df, method=\"mean\", factor=1.5):\n",
    "\n",
    "    df = df.copy()\n",
    "\n",
    "    columns = df.select_dtypes(include=[np.number]).columns\n",
    "    for column in columns:\n",
    "\n",
    "        Q1 = df[column].quantile(0.25)  \n",
    "        Q3 = df[column].quantile(0.75)  \n",
    "        IQR = Q3 - Q1\n",
    "\n",
    "        lower_bound = Q1 - factor * IQR\n",
    "        upper_bound = Q3 + factor * IQR\n",
    "\n",
    "        if method == \"mean\":\n",
    "            replacement_value = df[column].mean()\n",
    "        elif method == \"median\":\n",
    "            replacement_value = df[column].median()\n",
    "        else:\n",
    "            raise ValueError(\"Replacement method should be \" + \"mean \" + \"or\" + \" median\")\n",
    "\n",
    "        df[column] = df[column].apply(\n",
    "            lambda x: replacement_value if x < lower_bound or x > upper_bound else x\n",
    "        )\n",
    "    \n",
    "    return df"
   ]
  },
  {
   "cell_type": "code",
   "execution_count": 10,
   "id": "48eeb9d8",
   "metadata": {
    "execution": {
     "iopub.execute_input": "2024-12-07T11:48:08.947038Z",
     "iopub.status.busy": "2024-12-07T11:48:08.946631Z",
     "iopub.status.idle": "2024-12-07T11:48:08.970051Z",
     "shell.execute_reply": "2024-12-07T11:48:08.968760Z"
    },
    "papermill": {
     "duration": 0.034862,
     "end_time": "2024-12-07T11:48:08.972776",
     "exception": false,
     "start_time": "2024-12-07T11:48:08.937914",
     "status": "completed"
    },
    "tags": []
   },
   "outputs": [],
   "source": [
    "X = replacement(X, method = \"mean\")"
   ]
  },
  {
   "cell_type": "code",
   "execution_count": 11,
   "id": "ae3856bc",
   "metadata": {
    "execution": {
     "iopub.execute_input": "2024-12-07T11:48:08.990217Z",
     "iopub.status.busy": "2024-12-07T11:48:08.989737Z",
     "iopub.status.idle": "2024-12-07T11:48:08.996729Z",
     "shell.execute_reply": "2024-12-07T11:48:08.995599Z"
    },
    "papermill": {
     "duration": 0.018514,
     "end_time": "2024-12-07T11:48:08.998947",
     "exception": false,
     "start_time": "2024-12-07T11:48:08.980433",
     "status": "completed"
    },
    "tags": []
   },
   "outputs": [
    {
     "data": {
      "text/plain": [
       "array(['Glucose', 'BloodPressure', 'SkinThickness', 'Insulin', 'BMI',\n",
       "       'DiabetesPedigreeFunction', 'Age', 'Outcome'], dtype=object)"
      ]
     },
     "execution_count": 11,
     "metadata": {},
     "output_type": "execute_result"
    }
   ],
   "source": [
    "column_names = diabetes.columns.values\n",
    "column_names"
   ]
  },
  {
   "cell_type": "code",
   "execution_count": 12,
   "id": "194c72e8",
   "metadata": {
    "execution": {
     "iopub.execute_input": "2024-12-07T11:48:09.016239Z",
     "iopub.status.busy": "2024-12-07T11:48:09.015829Z",
     "iopub.status.idle": "2024-12-07T11:48:09.030162Z",
     "shell.execute_reply": "2024-12-07T11:48:09.029179Z"
    },
    "papermill": {
     "duration": 0.025614,
     "end_time": "2024-12-07T11:48:09.032599",
     "exception": false,
     "start_time": "2024-12-07T11:48:09.006985",
     "status": "completed"
    },
    "tags": []
   },
   "outputs": [],
   "source": [
    "# Initialize the standardize scaler\n",
    "scaler = StandardScaler()\n",
    "\n",
    "# Standardize all independent variables\n",
    "diabetes[column_names[:-1]] = scaler.fit_transform(diabetes[column_names[:-1]])"
   ]
  },
  {
   "cell_type": "markdown",
   "id": "3af8a043",
   "metadata": {
    "papermill": {
     "duration": 0.007224,
     "end_time": "2024-12-07T11:48:09.047519",
     "exception": false,
     "start_time": "2024-12-07T11:48:09.040295",
     "status": "completed"
    },
    "tags": []
   },
   "source": [
    "**train_test ratio = 7:3, random_state = seed**"
   ]
  },
  {
   "cell_type": "code",
   "execution_count": 13,
   "id": "85800e63",
   "metadata": {
    "execution": {
     "iopub.execute_input": "2024-12-07T11:48:09.064870Z",
     "iopub.status.busy": "2024-12-07T11:48:09.064442Z",
     "iopub.status.idle": "2024-12-07T11:48:09.073970Z",
     "shell.execute_reply": "2024-12-07T11:48:09.072774Z"
    },
    "papermill": {
     "duration": 0.020697,
     "end_time": "2024-12-07T11:48:09.076335",
     "exception": false,
     "start_time": "2024-12-07T11:48:09.055638",
     "status": "completed"
    },
    "tags": []
   },
   "outputs": [],
   "source": [
    "X_train, X_test, y_train, y_test = train_test_split(X, y, test_size=0.3, random_state=seed)"
   ]
  },
  {
   "cell_type": "markdown",
   "id": "ee616644",
   "metadata": {
    "papermill": {
     "duration": 0.007441,
     "end_time": "2024-12-07T11:48:09.092035",
     "exception": false,
     "start_time": "2024-12-07T11:48:09.084594",
     "status": "completed"
    },
    "tags": []
   },
   "source": [
    "# Train the Bagging Classifier (Base Estimator: Decision Tree)"
   ]
  },
  {
   "cell_type": "markdown",
   "id": "263d73be",
   "metadata": {
    "papermill": {
     "duration": 0.007787,
     "end_time": "2024-12-07T11:48:09.107940",
     "exception": false,
     "start_time": "2024-12-07T11:48:09.100153",
     "status": "completed"
    },
    "tags": []
   },
   "source": [
    "**Number of estimators is 100**"
   ]
  },
  {
   "cell_type": "markdown",
   "id": "e9f95f5e",
   "metadata": {
    "papermill": {
     "duration": 0.007037,
     "end_time": "2024-12-07T11:48:09.122503",
     "exception": false,
     "start_time": "2024-12-07T11:48:09.115466",
     "status": "completed"
    },
    "tags": []
   },
   "source": [
    "> **With Boostrapping**"
   ]
  },
  {
   "cell_type": "code",
   "execution_count": 14,
   "id": "0de60f8c",
   "metadata": {
    "execution": {
     "iopub.execute_input": "2024-12-07T11:48:09.139015Z",
     "iopub.status.busy": "2024-12-07T11:48:09.138647Z",
     "iopub.status.idle": "2024-12-07T11:48:09.144334Z",
     "shell.execute_reply": "2024-12-07T11:48:09.143107Z"
    },
    "papermill": {
     "duration": 0.016927,
     "end_time": "2024-12-07T11:48:09.146786",
     "exception": false,
     "start_time": "2024-12-07T11:48:09.129859",
     "status": "completed"
    },
    "tags": []
   },
   "outputs": [],
   "source": [
    "bag_clf = BaggingClassifier(n_estimators=100, n_jobs=-1, random_state=seed)"
   ]
  },
  {
   "cell_type": "code",
   "execution_count": 15,
   "id": "7a8bb851",
   "metadata": {
    "execution": {
     "iopub.execute_input": "2024-12-07T11:48:09.164159Z",
     "iopub.status.busy": "2024-12-07T11:48:09.163735Z",
     "iopub.status.idle": "2024-12-07T11:48:09.173116Z",
     "shell.execute_reply": "2024-12-07T11:48:09.171864Z"
    },
    "papermill": {
     "duration": 0.020459,
     "end_time": "2024-12-07T11:48:09.175229",
     "exception": false,
     "start_time": "2024-12-07T11:48:09.154770",
     "status": "completed"
    },
    "tags": []
   },
   "outputs": [
    {
     "data": {
      "text/html": [
       "<style>#sk-container-id-1 {color: black;background-color: white;}#sk-container-id-1 pre{padding: 0;}#sk-container-id-1 div.sk-toggleable {background-color: white;}#sk-container-id-1 label.sk-toggleable__label {cursor: pointer;display: block;width: 100%;margin-bottom: 0;padding: 0.3em;box-sizing: border-box;text-align: center;}#sk-container-id-1 label.sk-toggleable__label-arrow:before {content: \"▸\";float: left;margin-right: 0.25em;color: #696969;}#sk-container-id-1 label.sk-toggleable__label-arrow:hover:before {color: black;}#sk-container-id-1 div.sk-estimator:hover label.sk-toggleable__label-arrow:before {color: black;}#sk-container-id-1 div.sk-toggleable__content {max-height: 0;max-width: 0;overflow: hidden;text-align: left;background-color: #f0f8ff;}#sk-container-id-1 div.sk-toggleable__content pre {margin: 0.2em;color: black;border-radius: 0.25em;background-color: #f0f8ff;}#sk-container-id-1 input.sk-toggleable__control:checked~div.sk-toggleable__content {max-height: 200px;max-width: 100%;overflow: auto;}#sk-container-id-1 input.sk-toggleable__control:checked~label.sk-toggleable__label-arrow:before {content: \"▾\";}#sk-container-id-1 div.sk-estimator input.sk-toggleable__control:checked~label.sk-toggleable__label {background-color: #d4ebff;}#sk-container-id-1 div.sk-label input.sk-toggleable__control:checked~label.sk-toggleable__label {background-color: #d4ebff;}#sk-container-id-1 input.sk-hidden--visually {border: 0;clip: rect(1px 1px 1px 1px);clip: rect(1px, 1px, 1px, 1px);height: 1px;margin: -1px;overflow: hidden;padding: 0;position: absolute;width: 1px;}#sk-container-id-1 div.sk-estimator {font-family: monospace;background-color: #f0f8ff;border: 1px dotted black;border-radius: 0.25em;box-sizing: border-box;margin-bottom: 0.5em;}#sk-container-id-1 div.sk-estimator:hover {background-color: #d4ebff;}#sk-container-id-1 div.sk-parallel-item::after {content: \"\";width: 100%;border-bottom: 1px solid gray;flex-grow: 1;}#sk-container-id-1 div.sk-label:hover label.sk-toggleable__label {background-color: #d4ebff;}#sk-container-id-1 div.sk-serial::before {content: \"\";position: absolute;border-left: 1px solid gray;box-sizing: border-box;top: 0;bottom: 0;left: 50%;z-index: 0;}#sk-container-id-1 div.sk-serial {display: flex;flex-direction: column;align-items: center;background-color: white;padding-right: 0.2em;padding-left: 0.2em;position: relative;}#sk-container-id-1 div.sk-item {position: relative;z-index: 1;}#sk-container-id-1 div.sk-parallel {display: flex;align-items: stretch;justify-content: center;background-color: white;position: relative;}#sk-container-id-1 div.sk-item::before, #sk-container-id-1 div.sk-parallel-item::before {content: \"\";position: absolute;border-left: 1px solid gray;box-sizing: border-box;top: 0;bottom: 0;left: 50%;z-index: -1;}#sk-container-id-1 div.sk-parallel-item {display: flex;flex-direction: column;z-index: 1;position: relative;background-color: white;}#sk-container-id-1 div.sk-parallel-item:first-child::after {align-self: flex-end;width: 50%;}#sk-container-id-1 div.sk-parallel-item:last-child::after {align-self: flex-start;width: 50%;}#sk-container-id-1 div.sk-parallel-item:only-child::after {width: 0;}#sk-container-id-1 div.sk-dashed-wrapped {border: 1px dashed gray;margin: 0 0.4em 0.5em 0.4em;box-sizing: border-box;padding-bottom: 0.4em;background-color: white;}#sk-container-id-1 div.sk-label label {font-family: monospace;font-weight: bold;display: inline-block;line-height: 1.2em;}#sk-container-id-1 div.sk-label-container {text-align: center;}#sk-container-id-1 div.sk-container {/* jupyter's `normalize.less` sets `[hidden] { display: none; }` but bootstrap.min.css set `[hidden] { display: none !important; }` so we also need the `!important` here to be able to override the default hidden behavior on the sphinx rendered scikit-learn.org. See: https://github.com/scikit-learn/scikit-learn/issues/21755 */display: inline-block !important;position: relative;}#sk-container-id-1 div.sk-text-repr-fallback {display: none;}</style><div id=\"sk-container-id-1\" class=\"sk-top-container\"><div class=\"sk-text-repr-fallback\"><pre>BaggingClassifier(n_estimators=100, n_jobs=-1, random_state=221)</pre><b>In a Jupyter environment, please rerun this cell to show the HTML representation or trust the notebook. <br />On GitHub, the HTML representation is unable to render, please try loading this page with nbviewer.org.</b></div><div class=\"sk-container\" hidden><div class=\"sk-item\"><div class=\"sk-estimator sk-toggleable\"><input class=\"sk-toggleable__control sk-hidden--visually\" id=\"sk-estimator-id-1\" type=\"checkbox\" checked><label for=\"sk-estimator-id-1\" class=\"sk-toggleable__label sk-toggleable__label-arrow\">BaggingClassifier</label><div class=\"sk-toggleable__content\"><pre>BaggingClassifier(n_estimators=100, n_jobs=-1, random_state=221)</pre></div></div></div></div></div>"
      ],
      "text/plain": [
       "BaggingClassifier(n_estimators=100, n_jobs=-1, random_state=221)"
      ]
     },
     "execution_count": 15,
     "metadata": {},
     "output_type": "execute_result"
    }
   ],
   "source": [
    "bag_clf"
   ]
  },
  {
   "cell_type": "code",
   "execution_count": 16,
   "id": "ef0ea6e7",
   "metadata": {
    "execution": {
     "iopub.execute_input": "2024-12-07T11:48:09.193047Z",
     "iopub.status.busy": "2024-12-07T11:48:09.192675Z",
     "iopub.status.idle": "2024-12-07T11:48:10.935335Z",
     "shell.execute_reply": "2024-12-07T11:48:10.934139Z"
    },
    "papermill": {
     "duration": 1.754471,
     "end_time": "2024-12-07T11:48:10.937584",
     "exception": false,
     "start_time": "2024-12-07T11:48:09.183113",
     "status": "completed"
    },
    "tags": []
   },
   "outputs": [
    {
     "data": {
      "text/html": [
       "<style>#sk-container-id-2 {color: black;background-color: white;}#sk-container-id-2 pre{padding: 0;}#sk-container-id-2 div.sk-toggleable {background-color: white;}#sk-container-id-2 label.sk-toggleable__label {cursor: pointer;display: block;width: 100%;margin-bottom: 0;padding: 0.3em;box-sizing: border-box;text-align: center;}#sk-container-id-2 label.sk-toggleable__label-arrow:before {content: \"▸\";float: left;margin-right: 0.25em;color: #696969;}#sk-container-id-2 label.sk-toggleable__label-arrow:hover:before {color: black;}#sk-container-id-2 div.sk-estimator:hover label.sk-toggleable__label-arrow:before {color: black;}#sk-container-id-2 div.sk-toggleable__content {max-height: 0;max-width: 0;overflow: hidden;text-align: left;background-color: #f0f8ff;}#sk-container-id-2 div.sk-toggleable__content pre {margin: 0.2em;color: black;border-radius: 0.25em;background-color: #f0f8ff;}#sk-container-id-2 input.sk-toggleable__control:checked~div.sk-toggleable__content {max-height: 200px;max-width: 100%;overflow: auto;}#sk-container-id-2 input.sk-toggleable__control:checked~label.sk-toggleable__label-arrow:before {content: \"▾\";}#sk-container-id-2 div.sk-estimator input.sk-toggleable__control:checked~label.sk-toggleable__label {background-color: #d4ebff;}#sk-container-id-2 div.sk-label input.sk-toggleable__control:checked~label.sk-toggleable__label {background-color: #d4ebff;}#sk-container-id-2 input.sk-hidden--visually {border: 0;clip: rect(1px 1px 1px 1px);clip: rect(1px, 1px, 1px, 1px);height: 1px;margin: -1px;overflow: hidden;padding: 0;position: absolute;width: 1px;}#sk-container-id-2 div.sk-estimator {font-family: monospace;background-color: #f0f8ff;border: 1px dotted black;border-radius: 0.25em;box-sizing: border-box;margin-bottom: 0.5em;}#sk-container-id-2 div.sk-estimator:hover {background-color: #d4ebff;}#sk-container-id-2 div.sk-parallel-item::after {content: \"\";width: 100%;border-bottom: 1px solid gray;flex-grow: 1;}#sk-container-id-2 div.sk-label:hover label.sk-toggleable__label {background-color: #d4ebff;}#sk-container-id-2 div.sk-serial::before {content: \"\";position: absolute;border-left: 1px solid gray;box-sizing: border-box;top: 0;bottom: 0;left: 50%;z-index: 0;}#sk-container-id-2 div.sk-serial {display: flex;flex-direction: column;align-items: center;background-color: white;padding-right: 0.2em;padding-left: 0.2em;position: relative;}#sk-container-id-2 div.sk-item {position: relative;z-index: 1;}#sk-container-id-2 div.sk-parallel {display: flex;align-items: stretch;justify-content: center;background-color: white;position: relative;}#sk-container-id-2 div.sk-item::before, #sk-container-id-2 div.sk-parallel-item::before {content: \"\";position: absolute;border-left: 1px solid gray;box-sizing: border-box;top: 0;bottom: 0;left: 50%;z-index: -1;}#sk-container-id-2 div.sk-parallel-item {display: flex;flex-direction: column;z-index: 1;position: relative;background-color: white;}#sk-container-id-2 div.sk-parallel-item:first-child::after {align-self: flex-end;width: 50%;}#sk-container-id-2 div.sk-parallel-item:last-child::after {align-self: flex-start;width: 50%;}#sk-container-id-2 div.sk-parallel-item:only-child::after {width: 0;}#sk-container-id-2 div.sk-dashed-wrapped {border: 1px dashed gray;margin: 0 0.4em 0.5em 0.4em;box-sizing: border-box;padding-bottom: 0.4em;background-color: white;}#sk-container-id-2 div.sk-label label {font-family: monospace;font-weight: bold;display: inline-block;line-height: 1.2em;}#sk-container-id-2 div.sk-label-container {text-align: center;}#sk-container-id-2 div.sk-container {/* jupyter's `normalize.less` sets `[hidden] { display: none; }` but bootstrap.min.css set `[hidden] { display: none !important; }` so we also need the `!important` here to be able to override the default hidden behavior on the sphinx rendered scikit-learn.org. See: https://github.com/scikit-learn/scikit-learn/issues/21755 */display: inline-block !important;position: relative;}#sk-container-id-2 div.sk-text-repr-fallback {display: none;}</style><div id=\"sk-container-id-2\" class=\"sk-top-container\"><div class=\"sk-text-repr-fallback\"><pre>BaggingClassifier(n_estimators=100, n_jobs=-1, random_state=221)</pre><b>In a Jupyter environment, please rerun this cell to show the HTML representation or trust the notebook. <br />On GitHub, the HTML representation is unable to render, please try loading this page with nbviewer.org.</b></div><div class=\"sk-container\" hidden><div class=\"sk-item\"><div class=\"sk-estimator sk-toggleable\"><input class=\"sk-toggleable__control sk-hidden--visually\" id=\"sk-estimator-id-2\" type=\"checkbox\" checked><label for=\"sk-estimator-id-2\" class=\"sk-toggleable__label sk-toggleable__label-arrow\">BaggingClassifier</label><div class=\"sk-toggleable__content\"><pre>BaggingClassifier(n_estimators=100, n_jobs=-1, random_state=221)</pre></div></div></div></div></div>"
      ],
      "text/plain": [
       "BaggingClassifier(n_estimators=100, n_jobs=-1, random_state=221)"
      ]
     },
     "execution_count": 16,
     "metadata": {},
     "output_type": "execute_result"
    }
   ],
   "source": [
    "bag_clf.fit(X_train, y_train)"
   ]
  },
  {
   "cell_type": "code",
   "execution_count": 17,
   "id": "fdc0b07e",
   "metadata": {
    "execution": {
     "iopub.execute_input": "2024-12-07T11:48:10.955301Z",
     "iopub.status.busy": "2024-12-07T11:48:10.954889Z",
     "iopub.status.idle": "2024-12-07T11:48:11.014018Z",
     "shell.execute_reply": "2024-12-07T11:48:11.012890Z"
    },
    "papermill": {
     "duration": 0.070745,
     "end_time": "2024-12-07T11:48:11.016450",
     "exception": false,
     "start_time": "2024-12-07T11:48:10.945705",
     "status": "completed"
    },
    "tags": []
   },
   "outputs": [
    {
     "data": {
      "text/plain": [
       "array([0, 1, 0, 0, 0, 0, 0, 1, 0, 0, 0, 0, 0, 0, 0, 0, 0, 1, 1, 0, 0, 0,\n",
       "       1, 0, 0, 1, 1, 1, 0, 0, 0, 0, 0, 0, 1, 0, 0, 1, 0, 0, 0, 1, 0, 0,\n",
       "       0, 0, 0, 0, 1, 1, 1, 0, 0, 0, 0, 0, 1, 1, 0, 0, 1, 0, 0, 0, 0, 0,\n",
       "       1, 0, 0, 1, 1, 0, 0, 1, 1, 0, 1, 0, 0, 0, 0, 1, 0, 1, 0, 1, 1, 0,\n",
       "       0, 1, 0, 0, 0, 0, 1, 0, 0, 1, 1, 0, 0, 0, 0, 1, 0, 1, 1, 0, 0, 0,\n",
       "       1, 0, 1, 1, 1, 0, 0, 0, 1, 1, 0, 1, 0, 0, 0, 1, 0, 0, 0, 0, 0, 0,\n",
       "       0, 1, 0, 1, 1, 0, 1, 0, 0, 0, 0, 1, 1, 0, 0, 0, 0, 0, 1, 1, 0, 0,\n",
       "       0, 0, 0, 1, 0, 1, 0, 0, 0, 1, 0, 0, 0, 1, 0, 0, 0, 0, 1, 0, 0, 0,\n",
       "       0, 0, 0, 0, 1, 1, 0, 0, 1, 0, 1, 0, 0, 1, 0, 0, 0, 0, 0, 0, 1, 0,\n",
       "       1, 0, 0, 0, 1, 1, 0, 0, 0, 0, 1, 0, 0, 1, 1, 0, 0, 1, 0, 1, 0, 1,\n",
       "       0, 1, 0, 0, 0, 0, 0, 0, 0, 1, 1])"
      ]
     },
     "execution_count": 17,
     "metadata": {},
     "output_type": "execute_result"
    }
   ],
   "source": [
    "pred = bag_clf.predict(X_test)\n",
    "pred"
   ]
  },
  {
   "cell_type": "code",
   "execution_count": 18,
   "id": "38f58f5c",
   "metadata": {
    "execution": {
     "iopub.execute_input": "2024-12-07T11:48:11.035916Z",
     "iopub.status.busy": "2024-12-07T11:48:11.035459Z",
     "iopub.status.idle": "2024-12-07T11:48:11.043755Z",
     "shell.execute_reply": "2024-12-07T11:48:11.042301Z"
    },
    "papermill": {
     "duration": 0.020512,
     "end_time": "2024-12-07T11:48:11.046198",
     "exception": false,
     "start_time": "2024-12-07T11:48:11.025686",
     "status": "completed"
    },
    "tags": []
   },
   "outputs": [],
   "source": [
    "import random\n",
    "\n",
    "def generate_values():\n",
    "\n",
    "    glucose = random.uniform(50, 200)\n",
    "    blood_pressure = random.uniform(60, 120)\n",
    "    skin_thickness = random.uniform(10, 50)\n",
    "    insulin = random.uniform(15, 300)\n",
    "    bmi = random.uniform(18.5, 50)\n",
    "    diabetes_pedigree_function = random.uniform(0.1, 2.5)  \n",
    "    age = random.randint(10, 90)\n",
    "\n",
    "    return [\n",
    "        round(glucose, 2),\n",
    "        round(blood_pressure, 2),\n",
    "        round(skin_thickness, 2),\n",
    "        round(insulin, 2),\n",
    "        round(bmi, 2),\n",
    "        round(diabetes_pedigree_function, 2),\n",
    "        age\n",
    "    ]\n",
    "\n",
    "def generate_test_case():\n",
    "    header = [\n",
    "        \"Glucose\", \"BloodPressure\", \"SkinThickness\", \"Insulin\", \"BMI\", \"DiabetesPedigreeFunction\", \"Age\"\n",
    "    ]\n",
    "    data = generate_values()\n",
    "\n",
    "    return pd.DataFrame([data], columns=header)"
   ]
  },
  {
   "cell_type": "code",
   "execution_count": 19,
   "id": "8a34658a",
   "metadata": {
    "execution": {
     "iopub.execute_input": "2024-12-07T11:48:11.064760Z",
     "iopub.status.busy": "2024-12-07T11:48:11.063976Z",
     "iopub.status.idle": "2024-12-07T11:48:11.127138Z",
     "shell.execute_reply": "2024-12-07T11:48:11.126143Z"
    },
    "papermill": {
     "duration": 0.075008,
     "end_time": "2024-12-07T11:48:11.129800",
     "exception": false,
     "start_time": "2024-12-07T11:48:11.054792",
     "status": "completed"
    },
    "tags": []
   },
   "outputs": [
    {
     "name": "stdout",
     "output_type": "stream",
     "text": [
      "   Glucose  BloodPressure  SkinThickness  Insulin   BMI  \\\n",
      "0   167.97         102.46          45.71    71.84  37.9   \n",
      "\n",
      "   DiabetesPedigreeFunction  Age  \n",
      "0                      0.67   25  \n"
     ]
    },
    {
     "data": {
      "text/plain": [
       "array([1])"
      ]
     },
     "execution_count": 19,
     "metadata": {},
     "output_type": "execute_result"
    }
   ],
   "source": [
    "test = generate_test_case()\n",
    "print(test)\n",
    "bag_clf.predict(test)"
   ]
  },
  {
   "cell_type": "code",
   "execution_count": 20,
   "id": "74b38e6b",
   "metadata": {
    "execution": {
     "iopub.execute_input": "2024-12-07T11:48:11.148215Z",
     "iopub.status.busy": "2024-12-07T11:48:11.147778Z",
     "iopub.status.idle": "2024-12-07T11:48:11.163110Z",
     "shell.execute_reply": "2024-12-07T11:48:11.161957Z"
    },
    "papermill": {
     "duration": 0.027527,
     "end_time": "2024-12-07T11:48:11.165588",
     "exception": false,
     "start_time": "2024-12-07T11:48:11.138061",
     "status": "completed"
    },
    "tags": []
   },
   "outputs": [
    {
     "name": "stdout",
     "output_type": "stream",
     "text": [
      "              precision    recall  f1-score   support\n",
      "\n",
      "           0       0.76      0.86      0.81       139\n",
      "           1       0.74      0.59      0.65        92\n",
      "\n",
      "    accuracy                           0.75       231\n",
      "   macro avg       0.75      0.73      0.73       231\n",
      "weighted avg       0.75      0.75      0.75       231\n",
      "\n"
     ]
    }
   ],
   "source": [
    "print(classification_report(y_test, pred))"
   ]
  },
  {
   "cell_type": "code",
   "execution_count": 21,
   "id": "a3867c51",
   "metadata": {
    "execution": {
     "iopub.execute_input": "2024-12-07T11:48:11.185203Z",
     "iopub.status.busy": "2024-12-07T11:48:11.184777Z",
     "iopub.status.idle": "2024-12-07T11:48:11.416966Z",
     "shell.execute_reply": "2024-12-07T11:48:11.415800Z"
    },
    "papermill": {
     "duration": 0.244671,
     "end_time": "2024-12-07T11:48:11.419442",
     "exception": false,
     "start_time": "2024-12-07T11:48:11.174771",
     "status": "completed"
    },
    "tags": []
   },
   "outputs": [
    {
     "data": {
      "image/png": "[encoded data removed]",
      "text/plain": [
       "<Figure size 800x600 with 1 Axes>"
      ]
     },
     "metadata": {},
     "output_type": "display_data"
    }
   ],
   "source": [
    "cm_ = confusion_matrix(y_test, pred)\n",
    "labels = [0, 1]\n",
    "plt.figure(figsize=(8, 6))\n",
    "sns.heatmap(cm_, annot=True, cmap='Blues', fmt='g', cbar=False)\n",
    "\n",
    "# Add labels, title, and ticks\n",
    "plt.title('Confusion Matrix of Bagging without Boostrap')\n",
    "plt.xlabel('Predicted')\n",
    "plt.ylabel('Actual')\n",
    "plt.xticks(np.arange(len(labels)) + 0.5, labels)\n",
    "plt.yticks(np.arange(len(labels)) + 0.5, labels, rotation=0)\n",
    "plt.show()"
   ]
  },
  {
   "cell_type": "markdown",
   "id": "078ac654",
   "metadata": {
    "papermill": {
     "duration": 0.008494,
     "end_time": "2024-12-07T11:48:11.436756",
     "exception": false,
     "start_time": "2024-12-07T11:48:11.428262",
     "status": "completed"
    },
    "tags": []
   },
   "source": [
    "> Without Boostrapping"
   ]
  },
  {
   "cell_type": "code",
   "execution_count": 22,
   "id": "6e9f67e0",
   "metadata": {
    "execution": {
     "iopub.execute_input": "2024-12-07T11:48:11.455553Z",
     "iopub.status.busy": "2024-12-07T11:48:11.455174Z",
     "iopub.status.idle": "2024-12-07T11:48:11.460789Z",
     "shell.execute_reply": "2024-12-07T11:48:11.459570Z"
    },
    "papermill": {
     "duration": 0.017682,
     "end_time": "2024-12-07T11:48:11.463015",
     "exception": false,
     "start_time": "2024-12-07T11:48:11.445333",
     "status": "completed"
    },
    "tags": []
   },
   "outputs": [],
   "source": [
    "bag_clf_ = BaggingClassifier(n_estimators=100, bootstrap=False, n_jobs=-1, random_state=seed)"
   ]
  },
  {
   "cell_type": "code",
   "execution_count": 23,
   "id": "d1c40ffa",
   "metadata": {
    "execution": {
     "iopub.execute_input": "2024-12-07T11:48:11.482163Z",
     "iopub.status.busy": "2024-12-07T11:48:11.481771Z",
     "iopub.status.idle": "2024-12-07T11:48:11.490161Z",
     "shell.execute_reply": "2024-12-07T11:48:11.489133Z"
    },
    "papermill": {
     "duration": 0.020447,
     "end_time": "2024-12-07T11:48:11.492253",
     "exception": false,
     "start_time": "2024-12-07T11:48:11.471806",
     "status": "completed"
    },
    "tags": []
   },
   "outputs": [
    {
     "data": {
      "text/html": [
       "<style>#sk-container-id-3 {color: black;background-color: white;}#sk-container-id-3 pre{padding: 0;}#sk-container-id-3 div.sk-toggleable {background-color: white;}#sk-container-id-3 label.sk-toggleable__label {cursor: pointer;display: block;width: 100%;margin-bottom: 0;padding: 0.3em;box-sizing: border-box;text-align: center;}#sk-container-id-3 label.sk-toggleable__label-arrow:before {content: \"▸\";float: left;margin-right: 0.25em;color: #696969;}#sk-container-id-3 label.sk-toggleable__label-arrow:hover:before {color: black;}#sk-container-id-3 div.sk-estimator:hover label.sk-toggleable__label-arrow:before {color: black;}#sk-container-id-3 div.sk-toggleable__content {max-height: 0;max-width: 0;overflow: hidden;text-align: left;background-color: #f0f8ff;}#sk-container-id-3 div.sk-toggleable__content pre {margin: 0.2em;color: black;border-radius: 0.25em;background-color: #f0f8ff;}#sk-container-id-3 input.sk-toggleable__control:checked~div.sk-toggleable__content {max-height: 200px;max-width: 100%;overflow: auto;}#sk-container-id-3 input.sk-toggleable__control:checked~label.sk-toggleable__label-arrow:before {content: \"▾\";}#sk-container-id-3 div.sk-estimator input.sk-toggleable__control:checked~label.sk-toggleable__label {background-color: #d4ebff;}#sk-container-id-3 div.sk-label input.sk-toggleable__control:checked~label.sk-toggleable__label {background-color: #d4ebff;}#sk-container-id-3 input.sk-hidden--visually {border: 0;clip: rect(1px 1px 1px 1px);clip: rect(1px, 1px, 1px, 1px);height: 1px;margin: -1px;overflow: hidden;padding: 0;position: absolute;width: 1px;}#sk-container-id-3 div.sk-estimator {font-family: monospace;background-color: #f0f8ff;border: 1px dotted black;border-radius: 0.25em;box-sizing: border-box;margin-bottom: 0.5em;}#sk-container-id-3 div.sk-estimator:hover {background-color: #d4ebff;}#sk-container-id-3 div.sk-parallel-item::after {content: \"\";width: 100%;border-bottom: 1px solid gray;flex-grow: 1;}#sk-container-id-3 div.sk-label:hover label.sk-toggleable__label {background-color: #d4ebff;}#sk-container-id-3 div.sk-serial::before {content: \"\";position: absolute;border-left: 1px solid gray;box-sizing: border-box;top: 0;bottom: 0;left: 50%;z-index: 0;}#sk-container-id-3 div.sk-serial {display: flex;flex-direction: column;align-items: center;background-color: white;padding-right: 0.2em;padding-left: 0.2em;position: relative;}#sk-container-id-3 div.sk-item {position: relative;z-index: 1;}#sk-container-id-3 div.sk-parallel {display: flex;align-items: stretch;justify-content: center;background-color: white;position: relative;}#sk-container-id-3 div.sk-item::before, #sk-container-id-3 div.sk-parallel-item::before {content: \"\";position: absolute;border-left: 1px solid gray;box-sizing: border-box;top: 0;bottom: 0;left: 50%;z-index: -1;}#sk-container-id-3 div.sk-parallel-item {display: flex;flex-direction: column;z-index: 1;position: relative;background-color: white;}#sk-container-id-3 div.sk-parallel-item:first-child::after {align-self: flex-end;width: 50%;}#sk-container-id-3 div.sk-parallel-item:last-child::after {align-self: flex-start;width: 50%;}#sk-container-id-3 div.sk-parallel-item:only-child::after {width: 0;}#sk-container-id-3 div.sk-dashed-wrapped {border: 1px dashed gray;margin: 0 0.4em 0.5em 0.4em;box-sizing: border-box;padding-bottom: 0.4em;background-color: white;}#sk-container-id-3 div.sk-label label {font-family: monospace;font-weight: bold;display: inline-block;line-height: 1.2em;}#sk-container-id-3 div.sk-label-container {text-align: center;}#sk-container-id-3 div.sk-container {/* jupyter's `normalize.less` sets `[hidden] { display: none; }` but bootstrap.min.css set `[hidden] { display: none !important; }` so we also need the `!important` here to be able to override the default hidden behavior on the sphinx rendered scikit-learn.org. See: https://github.com/scikit-learn/scikit-learn/issues/21755 */display: inline-block !important;position: relative;}#sk-container-id-3 div.sk-text-repr-fallback {display: none;}</style><div id=\"sk-container-id-3\" class=\"sk-top-container\"><div class=\"sk-text-repr-fallback\"><pre>BaggingClassifier(bootstrap=False, n_estimators=100, n_jobs=-1,\n",
       "                  random_state=221)</pre><b>In a Jupyter environment, please rerun this cell to show the HTML representation or trust the notebook. <br />On GitHub, the HTML representation is unable to render, please try loading this page with nbviewer.org.</b></div><div class=\"sk-container\" hidden><div class=\"sk-item\"><div class=\"sk-estimator sk-toggleable\"><input class=\"sk-toggleable__control sk-hidden--visually\" id=\"sk-estimator-id-3\" type=\"checkbox\" checked><label for=\"sk-estimator-id-3\" class=\"sk-toggleable__label sk-toggleable__label-arrow\">BaggingClassifier</label><div class=\"sk-toggleable__content\"><pre>BaggingClassifier(bootstrap=False, n_estimators=100, n_jobs=-1,\n",
       "                  random_state=221)</pre></div></div></div></div></div>"
      ],
      "text/plain": [
       "BaggingClassifier(bootstrap=False, n_estimators=100, n_jobs=-1,\n",
       "                  random_state=221)"
      ]
     },
     "execution_count": 23,
     "metadata": {},
     "output_type": "execute_result"
    }
   ],
   "source": [
    "bag_clf_"
   ]
  },
  {
   "cell_type": "code",
   "execution_count": 24,
   "id": "7dcef046",
   "metadata": {
    "execution": {
     "iopub.execute_input": "2024-12-07T11:48:11.511908Z",
     "iopub.status.busy": "2024-12-07T11:48:11.511538Z",
     "iopub.status.idle": "2024-12-07T11:48:11.711960Z",
     "shell.execute_reply": "2024-12-07T11:48:11.710544Z"
    },
    "papermill": {
     "duration": 0.213161,
     "end_time": "2024-12-07T11:48:11.714426",
     "exception": false,
     "start_time": "2024-12-07T11:48:11.501265",
     "status": "completed"
    },
    "tags": []
   },
   "outputs": [
    {
     "data": {
      "text/html": [
       "<style>#sk-container-id-4 {color: black;background-color: white;}#sk-container-id-4 pre{padding: 0;}#sk-container-id-4 div.sk-toggleable {background-color: white;}#sk-container-id-4 label.sk-toggleable__label {cursor: pointer;display: block;width: 100%;margin-bottom: 0;padding: 0.3em;box-sizing: border-box;text-align: center;}#sk-container-id-4 label.sk-toggleable__label-arrow:before {content: \"▸\";float: left;margin-right: 0.25em;color: #696969;}#sk-container-id-4 label.sk-toggleable__label-arrow:hover:before {color: black;}#sk-container-id-4 div.sk-estimator:hover label.sk-toggleable__label-arrow:before {color: black;}#sk-container-id-4 div.sk-toggleable__content {max-height: 0;max-width: 0;overflow: hidden;text-align: left;background-color: #f0f8ff;}#sk-container-id-4 div.sk-toggleable__content pre {margin: 0.2em;color: black;border-radius: 0.25em;background-color: #f0f8ff;}#sk-container-id-4 input.sk-toggleable__control:checked~div.sk-toggleable__content {max-height: 200px;max-width: 100%;overflow: auto;}#sk-container-id-4 input.sk-toggleable__control:checked~label.sk-toggleable__label-arrow:before {content: \"▾\";}#sk-container-id-4 div.sk-estimator input.sk-toggleable__control:checked~label.sk-toggleable__label {background-color: #d4ebff;}#sk-container-id-4 div.sk-label input.sk-toggleable__control:checked~label.sk-toggleable__label {background-color: #d4ebff;}#sk-container-id-4 input.sk-hidden--visually {border: 0;clip: rect(1px 1px 1px 1px);clip: rect(1px, 1px, 1px, 1px);height: 1px;margin: -1px;overflow: hidden;padding: 0;position: absolute;width: 1px;}#sk-container-id-4 div.sk-estimator {font-family: monospace;background-color: #f0f8ff;border: 1px dotted black;border-radius: 0.25em;box-sizing: border-box;margin-bottom: 0.5em;}#sk-container-id-4 div.sk-estimator:hover {background-color: #d4ebff;}#sk-container-id-4 div.sk-parallel-item::after {content: \"\";width: 100%;border-bottom: 1px solid gray;flex-grow: 1;}#sk-container-id-4 div.sk-label:hover label.sk-toggleable__label {background-color: #d4ebff;}#sk-container-id-4 div.sk-serial::before {content: \"\";position: absolute;border-left: 1px solid gray;box-sizing: border-box;top: 0;bottom: 0;left: 50%;z-index: 0;}#sk-container-id-4 div.sk-serial {display: flex;flex-direction: column;align-items: center;background-color: white;padding-right: 0.2em;padding-left: 0.2em;position: relative;}#sk-container-id-4 div.sk-item {position: relative;z-index: 1;}#sk-container-id-4 div.sk-parallel {display: flex;align-items: stretch;justify-content: center;background-color: white;position: relative;}#sk-container-id-4 div.sk-item::before, #sk-container-id-4 div.sk-parallel-item::before {content: \"\";position: absolute;border-left: 1px solid gray;box-sizing: border-box;top: 0;bottom: 0;left: 50%;z-index: -1;}#sk-container-id-4 div.sk-parallel-item {display: flex;flex-direction: column;z-index: 1;position: relative;background-color: white;}#sk-container-id-4 div.sk-parallel-item:first-child::after {align-self: flex-end;width: 50%;}#sk-container-id-4 div.sk-parallel-item:last-child::after {align-self: flex-start;width: 50%;}#sk-container-id-4 div.sk-parallel-item:only-child::after {width: 0;}#sk-container-id-4 div.sk-dashed-wrapped {border: 1px dashed gray;margin: 0 0.4em 0.5em 0.4em;box-sizing: border-box;padding-bottom: 0.4em;background-color: white;}#sk-container-id-4 div.sk-label label {font-family: monospace;font-weight: bold;display: inline-block;line-height: 1.2em;}#sk-container-id-4 div.sk-label-container {text-align: center;}#sk-container-id-4 div.sk-container {/* jupyter's `normalize.less` sets `[hidden] { display: none; }` but bootstrap.min.css set `[hidden] { display: none !important; }` so we also need the `!important` here to be able to override the default hidden behavior on the sphinx rendered scikit-learn.org. See: https://github.com/scikit-learn/scikit-learn/issues/21755 */display: inline-block !important;position: relative;}#sk-container-id-4 div.sk-text-repr-fallback {display: none;}</style><div id=\"sk-container-id-4\" class=\"sk-top-container\"><div class=\"sk-text-repr-fallback\"><pre>BaggingClassifier(bootstrap=False, n_estimators=100, n_jobs=-1,\n",
       "                  random_state=221)</pre><b>In a Jupyter environment, please rerun this cell to show the HTML representation or trust the notebook. <br />On GitHub, the HTML representation is unable to render, please try loading this page with nbviewer.org.</b></div><div class=\"sk-container\" hidden><div class=\"sk-item\"><div class=\"sk-estimator sk-toggleable\"><input class=\"sk-toggleable__control sk-hidden--visually\" id=\"sk-estimator-id-4\" type=\"checkbox\" checked><label for=\"sk-estimator-id-4\" class=\"sk-toggleable__label sk-toggleable__label-arrow\">BaggingClassifier</label><div class=\"sk-toggleable__content\"><pre>BaggingClassifier(bootstrap=False, n_estimators=100, n_jobs=-1,\n",
       "                  random_state=221)</pre></div></div></div></div></div>"
      ],
      "text/plain": [
       "BaggingClassifier(bootstrap=False, n_estimators=100, n_jobs=-1,\n",
       "                  random_state=221)"
      ]
     },
     "execution_count": 24,
     "metadata": {},
     "output_type": "execute_result"
    }
   ],
   "source": [
    "bag_clf_.fit(X_train, y_train)"
   ]
  },
  {
   "cell_type": "code",
   "execution_count": 25,
   "id": "324bfee6",
   "metadata": {
    "execution": {
     "iopub.execute_input": "2024-12-07T11:48:11.734344Z",
     "iopub.status.busy": "2024-12-07T11:48:11.733911Z",
     "iopub.status.idle": "2024-12-07T11:48:11.786863Z",
     "shell.execute_reply": "2024-12-07T11:48:11.785447Z"
    },
    "papermill": {
     "duration": 0.066017,
     "end_time": "2024-12-07T11:48:11.789749",
     "exception": false,
     "start_time": "2024-12-07T11:48:11.723732",
     "status": "completed"
    },
    "tags": []
   },
   "outputs": [
    {
     "data": {
      "text/plain": [
       "array([0, 0, 0, 0, 0, 0, 0, 1, 0, 0, 0, 0, 0, 0, 0, 0, 1, 1, 1, 0, 1, 1,\n",
       "       1, 0, 0, 1, 1, 0, 0, 0, 0, 0, 0, 0, 0, 0, 0, 1, 0, 0, 0, 1, 1, 1,\n",
       "       0, 0, 0, 0, 1, 1, 1, 0, 0, 0, 0, 0, 0, 0, 1, 0, 0, 0, 0, 0, 0, 0,\n",
       "       1, 0, 0, 1, 1, 0, 0, 0, 1, 1, 0, 1, 0, 0, 1, 1, 0, 1, 0, 1, 1, 0,\n",
       "       0, 1, 0, 0, 0, 1, 0, 0, 0, 1, 0, 1, 1, 0, 0, 1, 0, 1, 0, 0, 0, 0,\n",
       "       1, 0, 1, 1, 1, 0, 0, 0, 1, 1, 1, 1, 0, 0, 0, 1, 1, 1, 0, 0, 1, 0,\n",
       "       0, 1, 0, 0, 1, 0, 1, 0, 0, 0, 0, 1, 1, 0, 0, 0, 0, 0, 1, 1, 1, 0,\n",
       "       0, 0, 1, 0, 0, 1, 1, 0, 1, 1, 0, 0, 0, 0, 0, 0, 0, 1, 1, 0, 0, 0,\n",
       "       1, 0, 1, 0, 1, 0, 0, 0, 1, 0, 1, 0, 0, 1, 0, 0, 0, 0, 0, 0, 1, 0,\n",
       "       1, 0, 1, 0, 0, 0, 0, 0, 0, 1, 0, 0, 0, 1, 1, 0, 1, 1, 1, 1, 0, 1,\n",
       "       0, 1, 0, 0, 0, 0, 0, 0, 0, 1, 1])"
      ]
     },
     "execution_count": 25,
     "metadata": {},
     "output_type": "execute_result"
    }
   ],
   "source": [
    "pred_ = bag_clf_.predict(X_test)\n",
    "pred_"
   ]
  },
  {
   "cell_type": "code",
   "execution_count": 26,
   "id": "a4391526",
   "metadata": {
    "execution": {
     "iopub.execute_input": "2024-12-07T11:48:11.810553Z",
     "iopub.status.busy": "2024-12-07T11:48:11.810160Z",
     "iopub.status.idle": "2024-12-07T11:48:11.872917Z",
     "shell.execute_reply": "2024-12-07T11:48:11.871113Z"
    },
    "papermill": {
     "duration": 0.076599,
     "end_time": "2024-12-07T11:48:11.875556",
     "exception": false,
     "start_time": "2024-12-07T11:48:11.798957",
     "status": "completed"
    },
    "tags": []
   },
   "outputs": [
    {
     "name": "stdout",
     "output_type": "stream",
     "text": [
      "   Glucose  BloodPressure  SkinThickness  Insulin    BMI  \\\n",
      "0    92.43          89.36           22.4    78.32  41.32   \n",
      "\n",
      "   DiabetesPedigreeFunction  Age  \n",
      "0                      0.13   38  \n"
     ]
    },
    {
     "data": {
      "text/plain": [
       "array([0])"
      ]
     },
     "execution_count": 26,
     "metadata": {},
     "output_type": "execute_result"
    }
   ],
   "source": [
    "test = generate_test_case()\n",
    "print(test)\n",
    "bag_clf_.predict(test)"
   ]
  },
  {
   "cell_type": "code",
   "execution_count": 27,
   "id": "9dc00557",
   "metadata": {
    "execution": {
     "iopub.execute_input": "2024-12-07T11:48:11.896269Z",
     "iopub.status.busy": "2024-12-07T11:48:11.895827Z",
     "iopub.status.idle": "2024-12-07T11:48:11.911629Z",
     "shell.execute_reply": "2024-12-07T11:48:11.910263Z"
    },
    "papermill": {
     "duration": 0.028708,
     "end_time": "2024-12-07T11:48:11.914002",
     "exception": false,
     "start_time": "2024-12-07T11:48:11.885294",
     "status": "completed"
    },
    "tags": []
   },
   "outputs": [
    {
     "name": "stdout",
     "output_type": "stream",
     "text": [
      "              precision    recall  f1-score   support\n",
      "\n",
      "           0       0.74      0.79      0.76       139\n",
      "           1       0.65      0.58      0.61        92\n",
      "\n",
      "    accuracy                           0.71       231\n",
      "   macro avg       0.69      0.68      0.69       231\n",
      "weighted avg       0.70      0.71      0.70       231\n",
      "\n"
     ]
    }
   ],
   "source": [
    "print(classification_report(y_test, pred_))"
   ]
  },
  {
   "cell_type": "code",
   "execution_count": 28,
   "id": "3adc6c95",
   "metadata": {
    "execution": {
     "iopub.execute_input": "2024-12-07T11:48:11.935275Z",
     "iopub.status.busy": "2024-12-07T11:48:11.934844Z",
     "iopub.status.idle": "2024-12-07T11:48:12.139365Z",
     "shell.execute_reply": "2024-12-07T11:48:12.137965Z"
    },
    "papermill": {
     "duration": 0.219021,
     "end_time": "2024-12-07T11:48:12.142472",
     "exception": false,
     "start_time": "2024-12-07T11:48:11.923451",
     "status": "completed"
    },
    "tags": []
   },
   "outputs": [
    {
     "data": {
      "image/png": "[encoded data removed]",
      "text/plain": [
       "<Figure size 800x600 with 1 Axes>"
      ]
     },
     "metadata": {},
     "output_type": "display_data"
    }
   ],
   "source": [
    "cm_ = confusion_matrix(y_test, pred_)\n",
    "labels = [0, 1]\n",
    "plt.figure(figsize=(8, 6))\n",
    "sns.heatmap(cm_, annot=True, cmap='Blues', fmt='g', cbar=False)\n",
    "\n",
    "# Add labels, title, and ticks\n",
    "plt.title('Confusion Matrix of Bagging without Boostrap')\n",
    "plt.xlabel('Predicted')\n",
    "plt.ylabel('Actual')\n",
    "plt.xticks(np.arange(len(labels)) + 0.5, labels)\n",
    "plt.yticks(np.arange(len(labels)) + 0.5, labels, rotation=0)\n",
    "plt.show()"
   ]
  },
  {
   "cell_type": "markdown",
   "id": "275aa7f7",
   "metadata": {
    "papermill": {
     "duration": 0.009751,
     "end_time": "2024-12-07T11:48:12.163867",
     "exception": false,
     "start_time": "2024-12-07T11:48:12.154116",
     "status": "completed"
    },
    "tags": []
   },
   "source": [
    "> "
   ]
  }
 ],
 "metadata": {
  "kaggle": {
   "accelerator": "none",
   "dataSources": [
    {
     "datasetId": 818300,
     "sourceId": 1400440,
     "sourceType": "datasetVersion"
    }
   ],
   "dockerImageVersionId": 30804,
   "isGpuEnabled": false,
   "isInternetEnabled": true,
   "language": "python",
   "sourceType": "notebook"
  },
  "kernelspec": {
   "display_name": "Python 3",
   "language": "python",
   "name": "python3"
  },
  "language_info": {
   "codemirror_mode": {
    "name": "ipython",
    "version": 3
   },
   "file_extension": ".py",
   "mimetype": "text/x-python",
   "name": "python",
   "nbconvert_exporter": "python",
   "pygments_lexer": "ipython3",
   "version": "3.10.14"
  },
  "papermill": {
   "default_parameters": {},
   "duration": 30.922545,
   "end_time": "2024-12-07T11:48:14.804223",
   "environment_variables": {},
   "exception": null,
   "input_path": "__notebook__.ipynb",
   "output_path": "__notebook__.ipynb",
   "parameters": {},
   "start_time": "2024-12-07T11:47:43.881678",
   "version": "2.6.0"
  }
 },
 "nbformat": 4,
 "nbformat_minor": 5
}
